{
 "cells": [
  {
   "cell_type": "markdown",
   "id": "97eeedc8",
   "metadata": {},
   "source": [
    "# Question 1"
   ]
  },
  {
   "cell_type": "code",
   "execution_count": 1,
   "id": "2fc1383a",
   "metadata": {},
   "outputs": [],
   "source": [
    "a = 0\n",
    "def b():\n",
    " global a\n",
    " a = c(a)\n",
    "def c(a):\n",
    " return a + 2"
   ]
  },
  {
   "cell_type": "code",
   "execution_count": 2,
   "id": "8457aa85",
   "metadata": {},
   "outputs": [],
   "source": [
    "b()"
   ]
  },
  {
   "cell_type": "code",
   "execution_count": 3,
   "id": "9fae72e5",
   "metadata": {},
   "outputs": [],
   "source": [
    "b()"
   ]
  },
  {
   "cell_type": "code",
   "execution_count": 4,
   "id": "02f3fe5b",
   "metadata": {},
   "outputs": [],
   "source": [
    "b()"
   ]
  },
  {
   "cell_type": "code",
   "execution_count": 5,
   "id": "0279c4ad",
   "metadata": {},
   "outputs": [
    {
     "data": {
      "text/plain": [
       "6"
      ]
     },
     "execution_count": 5,
     "metadata": {},
     "output_type": "execute_result"
    }
   ],
   "source": [
    "a"
   ]
  },
  {
   "cell_type": "markdown",
   "id": "71b0699a",
   "metadata": {},
   "source": [
    "### value is 6 when the last expression (a) is evaluated. \n",
    "### In above process, when we called function b() first time variable a is 0 and in function b it converted it into global variables\n",
    "### so it can be use in every function after that it call function c() with 'a' as its parameter and \n",
    "### function c() return 'a+2' and store it into variable 'a'.\n",
    "### In first process, a is 0 after calling b() it bacame '2' because c() return 'a+2'=> '0+2'=>'2'\n",
    "### in second process, a is '2' after calling b() it became '4' because c() return 'a+2'=> '2+2'=>'4'\n",
    "### In third process, a is '4' after calling b() it became '6' because c() return 'a+2'=> '4+2'=>'6'\n",
    "### so after third process 'a=6'"
   ]
  },
  {
   "cell_type": "markdown",
   "id": "e0d9d254",
   "metadata": {},
   "source": [
    "# Question 2"
   ]
  },
  {
   "cell_type": "code",
   "execution_count": 6,
   "id": "fd0bbf5f",
   "metadata": {},
   "outputs": [],
   "source": [
    "def file_length(file_name):\n",
    "    try:\n",
    "        file = open(file_name)\n",
    "        contents = file.read()\n",
    "        file.close()\n",
    "        print(len(contents))\n",
    "    except FileNotFoundError:\n",
    "        print(f\"File '{file_name}' not found\")\n",
    "    except IOError:\n",
    "        print(f\"Sorry ! Could not read file '{file_name}'.\")\n",
    "        file.close()"
   ]
  },
  {
   "cell_type": "code",
   "execution_count": 7,
   "id": "44f94746",
   "metadata": {},
   "outputs": [
    {
     "name": "stdout",
     "output_type": "stream",
     "text": [
      "File 'midterm.py' not found\n"
     ]
    }
   ],
   "source": [
    "file_length('midterm.py')"
   ]
  },
  {
   "cell_type": "markdown",
   "id": "d87b2ab3",
   "metadata": {},
   "source": [
    "# Question 3"
   ]
  },
  {
   "cell_type": "code",
   "execution_count": 8,
   "id": "5445a3d4",
   "metadata": {},
   "outputs": [],
   "source": [
    "class Marsupial:\n",
    "    def __init__(self):\n",
    "        self.pouch = []\n",
    "\n",
    "    def put_in_pouch(self, k):\n",
    "        self.pouch.append(k)\n",
    "\n",
    "    def pouch_contents(self):\n",
    "        return self.pouch\n",
    "\n",
    "\n",
    "class Kangaroo(Marsupial):\n",
    "    def __init__(self, x, y):\n",
    "        super().__init__()\n",
    "        self.x = x\n",
    "        self.y = y\n",
    "\n",
    "    def jump(self, nx, ny):\n",
    "        self.x += nx\n",
    "        self.y += ny\n",
    "\n",
    "    def __str__(self):\n",
    "        return f\"I am a Kangaroo located at coordinates : ({self.x}, {self.y})\""
   ]
  },
  {
   "cell_type": "code",
   "execution_count": 9,
   "id": "3a44e4a3",
   "metadata": {},
   "outputs": [
    {
     "name": "stdout",
     "output_type": "stream",
     "text": [
      "['zero', 'one', 'two']\n"
     ]
    }
   ],
   "source": [
    "\n",
    "m = Marsupial()\n",
    "m.put_in_pouch('zero')\n",
    "m.put_in_pouch('one')\n",
    "m.put_in_pouch('two')\n",
    "print(m.pouch_contents()) \n"
   ]
  },
  {
   "cell_type": "code",
   "execution_count": 10,
   "id": "51287ed9",
   "metadata": {},
   "outputs": [
    {
     "name": "stdout",
     "output_type": "stream",
     "text": [
      "I am a Kangaroo located at coordinates : (0, 0)\n",
      "I am a Kangaroo located at coordinates : (3, 0)\n"
     ]
    }
   ],
   "source": [
    "k = Kangaroo(0,0)\n",
    "print(k)\n",
    "k.put_in_pouch('kid 1')\n",
    "k.put_in_pouch('kid 2')\n",
    "k.put_in_pouch('kid 3')\n",
    "k.pouch_contents()\n",
    "k.jump(1,0)\n",
    "k.jump(1,0)\n",
    "k.jump(1,0)\n",
    "print(k)"
   ]
  },
  {
   "cell_type": "markdown",
   "id": "4a7f4d26",
   "metadata": {},
   "source": [
    "# Question 4"
   ]
  },
  {
   "cell_type": "code",
   "execution_count": 11,
   "id": "ef428a2c",
   "metadata": {},
   "outputs": [],
   "source": [
    "def collatz(n):\n",
    "    print(n)\n",
    "    if n == 1:\n",
    "        return\n",
    "    elif n % 2 == 0:\n",
    "        collatz(n // 2)\n",
    "    else:\n",
    "        collatz(3 * n + 1)"
   ]
  },
  {
   "cell_type": "code",
   "execution_count": 12,
   "id": "eb173504",
   "metadata": {},
   "outputs": [
    {
     "name": "stdout",
     "output_type": "stream",
     "text": [
      "1\n"
     ]
    }
   ],
   "source": [
    "collatz(1)"
   ]
  },
  {
   "cell_type": "code",
   "execution_count": 13,
   "id": "70ca844e",
   "metadata": {},
   "outputs": [
    {
     "name": "stdout",
     "output_type": "stream",
     "text": [
      "10\n",
      "5\n",
      "16\n",
      "8\n",
      "4\n",
      "2\n",
      "1\n"
     ]
    }
   ],
   "source": [
    "collatz(10)"
   ]
  },
  {
   "cell_type": "code",
   "execution_count": 14,
   "id": "311aafe4",
   "metadata": {},
   "outputs": [
    {
     "name": "stdout",
     "output_type": "stream",
     "text": [
      "6\n",
      "3\n",
      "10\n",
      "5\n",
      "16\n",
      "8\n",
      "4\n",
      "2\n",
      "1\n"
     ]
    }
   ],
   "source": [
    "collatz(6)"
   ]
  },
  {
   "cell_type": "markdown",
   "id": "52398167",
   "metadata": {},
   "source": [
    "# Question 5"
   ]
  },
  {
   "cell_type": "code",
   "execution_count": 15,
   "id": "223aeda2",
   "metadata": {},
   "outputs": [],
   "source": [
    "def binary(n):\n",
    "    if n == 0:\n",
    "        return '0'\n",
    "    elif n == 1:\n",
    "        return '1'\n",
    "    else:\n",
    "        return binary(n // 2) + str(n % 2)"
   ]
  },
  {
   "cell_type": "code",
   "execution_count": 16,
   "id": "ca9fbd91",
   "metadata": {},
   "outputs": [
    {
     "data": {
      "text/plain": [
       "'101'"
      ]
     },
     "execution_count": 16,
     "metadata": {},
     "output_type": "execute_result"
    }
   ],
   "source": [
    "binary(5)"
   ]
  },
  {
   "cell_type": "code",
   "execution_count": 17,
   "id": "9cc00e0e",
   "metadata": {},
   "outputs": [
    {
     "data": {
      "text/plain": [
       "'1000'"
      ]
     },
     "execution_count": 17,
     "metadata": {},
     "output_type": "execute_result"
    }
   ],
   "source": [
    "binary(8)"
   ]
  },
  {
   "cell_type": "markdown",
   "id": "51453668",
   "metadata": {},
   "source": [
    "# Question 6"
   ]
  },
  {
   "cell_type": "code",
   "execution_count": 18,
   "id": "c1546328",
   "metadata": {},
   "outputs": [],
   "source": [
    "from html.parser import HTMLParser\n",
    "\n",
    "\n",
    "class HeadingParser(HTMLParser):\n",
    "    def __init__(self):\n",
    "        super().__init__()\n",
    "        self.headings_type = 0\n",
    "        \n",
    "    def handle_starttag(self, tag, attrs):\n",
    "        if tag.startswith('h') and len(tag) == 2 :\n",
    "            self.headings_type = int(tag[1])\n",
    "\n",
    "    def handle_data(self, data):\n",
    "        if self.headings_type > 0:\n",
    "            print(data)\n",
    "\n",
    " "
   ]
  },
  {
   "cell_type": "code",
   "execution_count": 19,
   "id": "89ca67ff",
   "metadata": {},
   "outputs": [
    {
     "name": "stdout",
     "output_type": "stream",
     "text": [
      "W3C Mission\n",
      "\n",
      "\t\n",
      "Principles\n",
      "\n",
      " \n",
      "\n",
      "\n",
      "\n",
      "\n",
      "\n"
     ]
    }
   ],
   "source": [
    "htmlpage = open('w3c.html')\n",
    "data = htmlpage.read()\n",
    "htmlpage.close()\n",
    "\n",
    "dataparser = HeadingParser()\n",
    "dataparser.feed(data)\n"
   ]
  },
  {
   "cell_type": "markdown",
   "id": "a52754ec",
   "metadata": {},
   "source": [
    "# Question 7"
   ]
  },
  {
   "cell_type": "code",
   "execution_count": 20,
   "id": "1ff8a5a8",
   "metadata": {},
   "outputs": [],
   "source": [
    "import requests\n",
    "import re\n",
    "\n",
    "def webdir(url, depth, indent):\n",
    "    # Base case: if depth is 0, stop recursion\n",
    "    if depth == 0:\n",
    "        return\n",
    "\n",
    "    # Get the web page content\n",
    "    response = requests.get(url)\n",
    "    if response.status_code == 200:\n",
    "        print(\"success\")"
   ]
  },
  {
   "cell_type": "code",
   "execution_count": 21,
   "id": "d1816593",
   "metadata": {},
   "outputs": [
    {
     "name": "stdout",
     "output_type": "stream",
     "text": [
      "success\n"
     ]
    }
   ],
   "source": [
    "webdir('https://www.georgiancollege.ca/admissions/banner-login-information/',2,0)"
   ]
  },
  {
   "cell_type": "markdown",
   "id": "649a14c0",
   "metadata": {},
   "source": [
    "# Question 8"
   ]
  },
  {
   "cell_type": "code",
   "execution_count": 22,
   "id": "ce98c08b",
   "metadata": {},
   "outputs": [],
   "source": [
    "import sqlite3\n",
    "\n",
    "# Connect to the database\n",
    "conn = sqlite3.connect('nikunj_Db.db')\n",
    "cursor = conn.cursor()\n",
    "\n",
    "# Create the table\n",
    "cursor.execute('''CREATE TABLE Weather_Data (City VARCHAR(50),Country VARCHAR(50),Season VARCHAR(50),Temperature FLOAT,Rainfall FLOAT)''')\n",
    "\n",
    "# Define the data to be inserted\n",
    "tabledata = [('Mumbai', 'India', 'Winter', 24.8, 5.9), ('Mumbai', 'India', 'Spring', 28.4, 16.2),\n",
    "    ('Mumbai', 'India', 'Summer', 27.9, 1549.4), ('Mumbai', 'India', 'Fall', 27.6, 346.0),\n",
    "    ('London', 'United Kingdom', 'Winter', 4.2, 207.7),('London', 'United Kingdom', 'Spring', 8.3, 169.6),\n",
    "    ('London', 'United Kingdom', 'Summer', 15.7, 157.0),('London', 'United Kingdom', 'Fall', 10.4, 218.5),\n",
    "    ('Cairo', 'Egypt', 'Winter', 13.6, 16.5),('Cairo', 'Egypt', 'Spring', 20.7, 6.5),\n",
    "    ('Cairo', 'Egypt', 'Summer', 27.7, 0.1),('Cairo', 'Egypt', 'Fall', 22.2, 4.5)]\n",
    "\n",
    "# Insert the data into the table\n",
    "cursor.executemany('''INSERT INTO Weather_Data (City, Country, Season, Temperature, Rainfall)VALUES (?, ?, ?, ?, ?)''', tabledata)\n",
    "\n",
    "conn.commit()\n",
    "conn.close()"
   ]
  },
  {
   "cell_type": "code",
   "execution_count": 23,
   "id": "50531063",
   "metadata": {},
   "outputs": [
    {
     "name": "stdout",
     "output_type": "stream",
     "text": [
      "a) All the temperature data\n",
      "Temperature Data:\n",
      "[(24.8,), (28.4,), (27.9,), (27.6,), (4.2,), (8.3,), (15.7,), (10.4,), (13.6,), (20.7,), (27.7,), (22.2,)]\n",
      "\n",
      "b) All the cities, but without repetition\n",
      "All the Cities:\n",
      "['Mumbai', 'London', 'Cairo']\n",
      "\n",
      "c) All the records for India\n",
      "Records for India:\n",
      "[('Mumbai', 'India', 'Winter', 24.8, 5.9), ('Mumbai', 'India', 'Spring', 28.4, 16.2), ('Mumbai', 'India', 'Summer', 27.9, 1549.4), ('Mumbai', 'India', 'Fall', 27.6, 346.0)]\n",
      "\n",
      "d) All the Fall records\n",
      "Fall Records:\n",
      "[('Mumbai', 'India', 'Fall', 27.6, 346.0), ('London', 'United Kingdom', 'Fall', 10.4, 218.5), ('Cairo', 'Egypt', 'Fall', 22.2, 4.5)]\n",
      "\n",
      "e) The city, country, and season for which the average rainfall is between 200 and 400 millimeters\n",
      "Records with Average Rainfall between 200 and 400 millimeters:\n",
      "[('London', 'United Kingdom', 'Fall'), ('London', 'United Kingdom', 'Winter'), ('Mumbai', 'India', 'Fall')]\n",
      "\n",
      "f) The city and country for which the average Fall temperature is above 20 degrees, in increasing temperature order\n",
      "Records with Average Fall Temperature above 20 degrees, in increasing order:\n",
      "[('Cairo', 'Egypt'), ('Mumbai', 'India')]\n",
      "\n",
      "g) The total annual rainfall for Cairo\n",
      "Total Annual Rainfall for Cairo: 27.6\n",
      "\n",
      "h) The total rainfall for each season\n",
      "Total Rainfall for Each Season:\n",
      "[('Fall', 569.0), ('Spring', 192.29999999999998), ('Summer', 1706.5), ('Winter', 230.1)]\n"
     ]
    }
   ],
   "source": [
    "import sqlite3\n",
    "\n",
    "# Connect to the database\n",
    "conn = sqlite3.connect('nikunj_Db.db')\n",
    "cursor = conn.cursor()\n",
    "\n",
    "#########################\n",
    "cursor.execute(\"SELECT Temperature FROM Weather_Data\")\n",
    "temperature_data = cursor.fetchall()\n",
    "\n",
    "print(\"a) All the temperature data\")\n",
    "\n",
    "print(\"Temperature Data:\")\n",
    "temperature_datalist = []\n",
    "for data in temperature_data:\n",
    "    temperature_datalist.append(data[0])\n",
    "print(temperature_data)\n",
    "print()\n",
    "\n",
    "###########################\n",
    "# b) All the cities, but without repetition\n",
    "cursor.execute(\"SELECT DISTINCT City FROM Weather_Data\")\n",
    "record_cities = cursor.fetchall()\n",
    "print(\"b) All the cities, but without repetition\")\n",
    "print(\"All the Cities:\")\n",
    "cities = []\n",
    "for X in record_cities:\n",
    "    cities.append(X[0])\n",
    "print(cities)\n",
    "print()\n",
    "\n",
    "############################# \n",
    "cursor.execute(\"SELECT * FROM Weather_Data WHERE Country = 'India'\")\n",
    "records_of_india = cursor.fetchall()\n",
    "print(\"c) All the records for India\")\n",
    "print(\"Records for India:\")\n",
    "indiadata=[]\n",
    "for X in records_of_india:\n",
    "      indiadata.append(X)\n",
    "print(indiadata)\n",
    "print()\n",
    "\n",
    "\n",
    "############################## \n",
    "cursor.execute(\"SELECT * FROM Weather_Data WHERE Season = 'Fall'\")\n",
    "records_of_fall = cursor.fetchall()\n",
    "print(\"d) All the Fall records\")\n",
    "print(\"Fall Records:\")\n",
    "falldata=[]\n",
    "for X in records_of_fall:\n",
    "    falldata.append(X)\n",
    "print(falldata)\n",
    "print()\n",
    "\n",
    "\n",
    "################################ \n",
    "cursor.execute(\"SELECT City, Country, Season FROM Weather_Data GROUP BY City, Country, Season HAVING AVG(Rainfall) BETWEEN 200 AND 400\")\n",
    "record_of_rainfall_range = cursor.fetchall()\n",
    "print(\"e) The city, country, and season for which the average rainfall is between 200 and 400 millimeters\")\n",
    "print(\"Records with Average Rainfall between 200 and 400 millimeters:\")\n",
    "rainfalllist=[]\n",
    "for X in record_of_rainfall_range:\n",
    "    rainfalllist.append(X)\n",
    "print(rainfalllist)\n",
    "print()\n",
    "\n",
    "##################################\n",
    "cursor.execute(\"SELECT City, Country FROM Weather_Data WHERE Season = 'Fall' GROUP BY City, Country HAVING AVG(Temperature) > 20 ORDER BY AVG(Temperature) ASC\")\n",
    "records_average_temp = cursor.fetchall()\n",
    "print(\"f) The city and country for which the average Fall temperature is above 20 degrees, in increasing temperature order\")\n",
    "print(\"Records with Average Fall Temperature above 20 degrees, in increasing order:\")\n",
    "templist=[]\n",
    "for X in records_average_temp:\n",
    "    templist.append(X)\n",
    "print(templist)\n",
    "\n",
    "print()    \n",
    "    \n",
    "#################################### \n",
    "cursor.execute(\"SELECT SUM(Rainfall) AS TotalRainfall FROM Weather_Data WHERE City = 'Cairo'\")\n",
    "record_cairo_total_rainfall = cursor.fetchone()[0]\n",
    "print(\"g) The total annual rainfall for Cairo\")\n",
    "print(\"Total Annual Rainfall for Cairo:\", record_cairo_total_rainfall)\n",
    "\n",
    "print()\n",
    "\n",
    "###################################\n",
    "cursor.execute(\"SELECT Season, SUM(Rainfall) AS TotalRainfall FROM Weather_Data GROUP BY Season\")\n",
    "record_seasonal_rainfall = cursor.fetchall()\n",
    "print(\"h) The total rainfall for each season\")\n",
    "print(\"Total Rainfall for Each Season:\")\n",
    "s_rainlist=[]\n",
    "for X in record_seasonal_rainfall:\n",
    "    s_rainlist.append(X)\n",
    "print(s_rainlist)\n",
    "\n",
    "conn.close()\n"
   ]
  },
  {
   "cell_type": "markdown",
   "id": "3f9f8243",
   "metadata": {},
   "source": [
    "# Question 9"
   ]
  },
  {
   "cell_type": "code",
   "execution_count": 24,
   "id": "a21065e6",
   "metadata": {},
   "outputs": [],
   "source": [
    "words = ['The', 'quick', 'brown', 'fox', 'jumps', 'over','the', 'lazy', 'dog']"
   ]
  },
  {
   "cell_type": "code",
   "execution_count": 25,
   "id": "0df3fbc3",
   "metadata": {},
   "outputs": [
    {
     "name": "stdout",
     "output_type": "stream",
     "text": [
      "['THE', 'QUICK', 'BROWN', 'FOX', 'JUMPS', 'OVER', 'THE', 'LAZY', 'DOG']\n"
     ]
    }
   ],
   "source": [
    "upper_list = []\n",
    "for X in words:\n",
    "    upper_list.append(X.upper())\n",
    "print(upper_list)"
   ]
  },
  {
   "cell_type": "code",
   "execution_count": 26,
   "id": "a8e1485f",
   "metadata": {},
   "outputs": [
    {
     "name": "stdout",
     "output_type": "stream",
     "text": [
      "['the', 'quick', 'brown', 'fox', 'jumps', 'over', 'the', 'lazy', 'dog']\n"
     ]
    }
   ],
   "source": [
    "lower_list = []\n",
    "for X in words:\n",
    "    lower_list.append(X.lower())\n",
    "print(lower_list)"
   ]
  },
  {
   "cell_type": "code",
   "execution_count": 27,
   "id": "f144b490",
   "metadata": {},
   "outputs": [
    {
     "name": "stdout",
     "output_type": "stream",
     "text": [
      "[3, 5, 5, 3, 5, 4, 3, 4, 3]\n"
     ]
    }
   ],
   "source": [
    "listoflength = []\n",
    "for X in words:\n",
    "    listoflength.append(len(X))\n",
    "print(listoflength)"
   ]
  },
  {
   "cell_type": "code",
   "execution_count": 28,
   "id": "c1d19e96",
   "metadata": {},
   "outputs": [
    {
     "name": "stdout",
     "output_type": "stream",
     "text": [
      "[['THE', 'the', 3], ['QUICK', 'quick', 5], ['BROWN', 'brown', 5], ['FOX', 'fox', 3], ['JUMPS', 'jumps', 5], ['OVER', 'over', 4], ['THE', 'the', 3], ['LAZY', 'lazy', 4], ['DOG', 'dog', 3]]\n"
     ]
    }
   ],
   "source": [
    "word_of_list = []\n",
    "for X in words:\n",
    "    word_of_list.append([X.upper(), X.lower(), len(X)])\n",
    "print(word_of_list)"
   ]
  },
  {
   "cell_type": "code",
   "execution_count": 29,
   "id": "f7a0c191",
   "metadata": {},
   "outputs": [
    {
     "name": "stdout",
     "output_type": "stream",
     "text": [
      "['quick', 'brown', 'jumps', 'over', 'lazy']\n"
     ]
    }
   ],
   "source": [
    "longword_list = []\n",
    "for X in words:\n",
    "     if len(X) >= 4:\n",
    "        longword_list.append(X)\n",
    "print(longword_list)"
   ]
  },
  {
   "cell_type": "code",
   "execution_count": null,
   "id": "e045cc69",
   "metadata": {},
   "outputs": [],
   "source": []
  }
 ],
 "metadata": {
  "kernelspec": {
   "display_name": "Python 3",
   "language": "python",
   "name": "python3"
  },
  "language_info": {
   "codemirror_mode": {
    "name": "ipython",
    "version": 3
   },
   "file_extension": ".py",
   "mimetype": "text/x-python",
   "name": "python",
   "nbconvert_exporter": "python",
   "pygments_lexer": "ipython3",
   "version": "3.8.8"
  }
 },
 "nbformat": 4,
 "nbformat_minor": 5
}
